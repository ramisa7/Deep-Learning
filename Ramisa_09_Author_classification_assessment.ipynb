{
  "cells": [
    {
      "cell_type": "markdown",
      "metadata": {
        "colab_type": "text",
        "id": "view-in-github"
      },
      "source": [
        "<a href=\"https://colab.research.google.com/github/ramisa7/Deep-Learning/blob/main/Ramisa_09_Author_classification_assessment.ipynb\" target=\"_parent\"><img src=\"https://colab.research.google.com/assets/colab-badge.svg\" alt=\"Open In Colab\"/></a>"
      ]
    },
    {
      "cell_type": "markdown",
      "metadata": {
        "id": "_jiGtJu6u9ml"
      },
      "source": [
        "# Copyright\n",
        "\n",
        "<PRE>\n",
        "Copyright (c) 2023 Bálint Gyires-Tóth - All Rights Reserved\n",
        "You may use and modify this code for research and development purpuses.\n",
        "Use this code for educational purposes (self-paced or instructor led) without the permission of the author is prohibited.\n",
        "</PRE>"
      ]
    },
    {
      "cell_type": "markdown",
      "metadata": {
        "id": "oXyFC44jV-PP"
      },
      "source": [
        "# Author classification\n",
        "The task is to train a 1D CNN or an LSTM that is able to  classify text from two authors. The final model should be able to tell about a text with a given length (e.g. 60 characters) who wrote it.\n",
        "\n",
        "Please write the codes according to the following parts:"
      ]
    },
    {
      "cell_type": "markdown",
      "metadata": {
        "id": "jCnLoeGrHXsp"
      },
      "source": [
        "## Python module imports\n",
        "Import all Python modules that you would need during the Assignment."
      ]
    },
    {
      "cell_type": "code",
      "execution_count": 1,
      "metadata": {
        "id": "7itbFGt3HXVT"
      },
      "outputs": [],
      "source": [
        "import numpy as np\n",
        "import tensorflow as tf\n",
        "from tensorflow.keras.models import Sequential\n",
        "from tensorflow.keras.layers import Dense, LSTM, Conv1D, MaxPooling1D, Flatten\n",
        "import matplotlib.pyplot as plt\n",
        "import seaborn as sns\n"
      ]
    },
    {
      "cell_type": "markdown",
      "metadata": {
        "id": "Hr617tEpHd8R"
      },
      "source": [
        "## Data acquisition\n",
        "Seek a possible dataset, you can use any source, e.g.\n",
        "* http://www.gutenberg.org/\n",
        "* https://www.kaggle.com/datasets\n",
        "* https://paperswithcode.com/datasets\n",
        "* if you would like to learn Hungarian, than e.g. https://mek.oszk.hu/\n",
        "\n",
        "You can download the text by hand (e.g. by copy-pasting some parts into txt files) or with Python."
      ]
    },
    {
      "cell_type": "code",
      "execution_count": 2,
      "metadata": {
        "id": "NgkdQxHqHdZB"
      },
      "outputs": [],
      "source": [
        "import requests\n",
        "\n",
        "def download_text(url):\n",
        "    response = requests.get(url)\n",
        "    return response.text\n",
        "\n",
        "author1_text = download_text(\"https://www.gutenberg.org/cache/epub/73496/pg73496.txt\") # an eye for the ladies by ny\n",
        "author2_text = download_text(\"https://www.gutenberg.org/cache/epub/73490/pg73490.txt\") # the blwing away by edith\n"
      ]
    },
    {
      "cell_type": "markdown",
      "metadata": {
        "id": "U9Pmq91t3SRD"
      },
      "source": [
        "## Data analysis\n",
        "Count the number of characters from both authors and display them on a plot (e.g. Seaborn's countplot)."
      ]
    },
    {
      "cell_type": "code",
      "execution_count": 3,
      "metadata": {
        "colab": {
          "base_uri": "https://localhost:8080/"
        },
        "id": "7mbY8E2GFt3p",
        "outputId": "4993245d-5c1c-4dad-ddce-e36537bed145"
      },
      "outputs": [
        {
          "name": "stdout",
          "output_type": "stream",
          "text": [
            "47497\n",
            "41041\n"
          ]
        }
      ],
      "source": [
        "print( len(author1_text))\n",
        "print(len(author2_text))"
      ]
    },
    {
      "cell_type": "code",
      "execution_count": 4,
      "metadata": {
        "colab": {
          "base_uri": "https://localhost:8080/",
          "height": 472
        },
        "id": "C-Ern1QUFGEy",
        "outputId": "b115a927-4bc2-49f4-aa57-046c7ea908c1"
      },
      "outputs": [
        {
          "data": {
            "image/png": "[encoded data removed]",
            "text/plain": [
              "<Figure size 640x480 with 1 Axes>"
            ]
          },
          "metadata": {},
          "output_type": "display_data"
        }
      ],
      "source": [
        "import pandas as pd\n",
        "\n",
        "# Create a DataFrame with author names and their text lengths\n",
        "data = pd.DataFrame({'Author': ['Author 1', 'Author 2'],\n",
        "                     'Character Count': [len(author1_text), len(author2_text)]})\n",
        "\n",
        "# Plot the character count by author\n",
        "sns.barplot(data=data, x='Author', y='Character Count')\n",
        "plt.title('Character Count by Author')\n",
        "plt.xlabel('Author')\n",
        "plt.ylabel('Character Count')\n",
        "plt.show()"
      ]
    },
    {
      "cell_type": "markdown",
      "metadata": {
        "id": "cHyE_ndGIblJ"
      },
      "source": [
        "## Data loading, labeling and preprocessing\n",
        "Load the data and convert the characters into one-hot encodings. Then load the data into a 3D NumPy array, with a shape of\n",
        "\n",
        "* (batch, sequence_length, alphabet_length)\n",
        "\n",
        "where sequence_length=60, and alphabet_length equals to the number of unique characters in both datasets. The sequences should be cut out from the complete dataset by sliding window. You should add 0 and 1 labels to the sequences, according to the author.\n",
        "\n",
        "Later you may change sequence_length to achieve better results!"
      ]
    },
    {
      "cell_type": "code",
      "execution_count": 5,
      "metadata": {
        "id": "arooXt0WIb6x"
      },
      "outputs": [],
      "source": [
        "def one_hot_encode(text):\n",
        "    alphabet = sorted(set(text))\n",
        "    char_to_int = dict((c, i) for i, c in enumerate(alphabet))\n",
        "    int_to_char = dict((i, c) for i, c in enumerate(alphabet))\n",
        "    encoded_text = [char_to_int[char] for char in text]\n",
        "    one_hot_encoded = np.eye(len(alphabet))[encoded_text]\n",
        "    return one_hot_encoded, char_to_int, int_to_char\n",
        "\n",
        "author1_encoded, _, _ = one_hot_encode(author1_text)\n",
        "author2_encoded, _, _ = one_hot_encode(author2_text)\n"
      ]
    },
    {
      "cell_type": "code",
      "execution_count": 6,
      "metadata": {
        "id": "evh4EFl_GOSx"
      },
      "outputs": [],
      "source": [
        "def create_sequences(encoded_text, sequence_length):\n",
        "    sequences = []\n",
        "    for i in range(len(encoded_text) - sequence_length):\n",
        "        sequences.append(encoded_text[i:i+sequence_length])\n",
        "    return np.array(sequences)\n",
        "\n",
        "sequence_length = 60\n",
        "author1_sequences = create_sequences(author1_encoded, sequence_length)\n",
        "author2_sequences = create_sequences(author2_encoded, sequence_length)\n",
        "\n",
        "# Add labels\n",
        "author1_labels = np.zeros((len(author1_sequences), 1))\n",
        "author2_labels = np.ones((len(author2_sequences), 1))\n",
        "\n",
        "# Combine sequences and labels\n",
        "X = np.concatenate((author1_sequences, author2_sequences), axis=0)\n",
        "y = np.concatenate((author1_labels, author2_labels), axis=0)\n"
      ]
    },
    {
      "cell_type": "code",
      "execution_count": 7,
      "metadata": {
        "colab": {
          "base_uri": "https://localhost:8080/"
        },
        "id": "UdH1PtDXGgZU",
        "outputId": "abd4be37-f413-47d4-fb8e-bb6abd48dc69"
      },
      "outputs": [
        {
          "name": "stdout",
          "output_type": "stream",
          "text": [
            "Shape of Author 1 sequences: (47437, 60, 91)\n",
            "Shape of Author 2 sequences: (40981, 60, 91)\n",
            "Shape of labels array:\n",
            "(88418, 1)\n",
            "Author 1 count: 47437, Author 2 count: 40981\n"
          ]
        }
      ],
      "source": [
        "# check to ensure the shapes are correct & data is balanced\n",
        "\n",
        "print(\"Shape of Author 1 sequences:\", author1_sequences.shape)\n",
        "print(\"Shape of Author 2 sequences:\", author2_sequences.shape)\n",
        "\n",
        "# Check the shape of the labels array\n",
        "print(\"Shape of labels array:\")\n",
        "print(y.shape)\n",
        "\n",
        "# Check for data balance\n",
        "author1_count = np.sum(y == 0)\n",
        "author2_count = np.sum(y == 1)\n",
        "print(f\"Author 1 count: {author1_count}, Author 2 count: {author2_count}\")\n",
        "\n"
      ]
    },
    {
      "cell_type": "markdown",
      "metadata": {
        "id": "lL1Mc8ibHnep"
      },
      "source": [
        "## Data splitting\n",
        "Split the data into train, validate and test sets. Make"
      ]
    },
    {
      "cell_type": "code",
      "execution_count": 8,
      "metadata": {
        "colab": {
          "base_uri": "https://localhost:8080/",
          "height": 193
        },
        "id": "ELyG9XFUHrkB",
        "outputId": "e4b37203-cd23-442b-9bd0-d25c42dc03b6"
      },
      "outputs": [],
      "source": [
        "from sklearn.model_selection import train_test_split\n",
        "\n",
        "X_train, X_temp, y_train, y_temp = train_test_split(X, y, test_size=0.2, random_state=42)\n",
        "X_val, X_test, y_val, y_test = train_test_split(X_temp, y_temp, test_size=0.5, random_state=42)\n"
      ]
    },
    {
      "cell_type": "markdown",
      "metadata": {
        "id": "hA8U9tr7HrNQ"
      },
      "source": [
        "## Model definition\n",
        "Define a 1D CNN or an LSTM for the task. Compile the model with the correct loss function."
      ]
    },
    {
      "cell_type": "code",
      "execution_count": 9,
      "metadata": {
        "id": "BT1V1s4kHuUe"
      },
      "outputs": [
        {
          "name": "stderr",
          "output_type": "stream",
          "text": [
            "C:\\Users\\ramis\\AppData\\Local\\Packages\\PythonSoftwareFoundation.Python.3.11_qbz5n2kfra8p0\\LocalCache\\local-packages\\Python311\\site-packages\\keras\\src\\layers\\rnn\\rnn.py:204: UserWarning: Do not pass an `input_shape`/`input_dim` argument to a layer. When using Sequential models, prefer using an `Input(shape)` object as the first layer in the model instead.\n",
            "  super().__init__(**kwargs)\n"
          ]
        }
      ],
      "source": [
        "model = Sequential([\n",
        "    LSTM(128, input_shape=(sequence_length, X.shape[2])),\n",
        "    Dense(1, activation='sigmoid')\n",
        "])\n",
        "\n",
        "model.compile(loss='binary_crossentropy', optimizer='adam', metrics=['accuracy'])\n"
      ]
    },
    {
      "cell_type": "markdown",
      "metadata": {
        "id": "hWFb-nAMHuAI"
      },
      "source": [
        "## Model training\n",
        "Train the model and apply early stopping."
      ]
    },
    {
      "cell_type": "code",
      "execution_count": 10,
      "metadata": {
        "id": "dvgKjqp3Hwkp"
      },
      "outputs": [
        {
          "name": "stdout",
          "output_type": "stream",
          "text": [
            "Epoch 1/20\n",
            "\u001b[1m1106/1106\u001b[0m \u001b[32m━━━━━━━━━━━━━━━━━━━━\u001b[0m\u001b[37m\u001b[0m \u001b[1m68s\u001b[0m 58ms/step - accuracy: 0.9653 - loss: 0.0941 - val_accuracy: 0.9880 - val_loss: 0.0181\n",
            "Epoch 2/20\n",
            "\u001b[1m1106/1106\u001b[0m \u001b[32m━━━━━━━━━━━━━━━━━━━━\u001b[0m\u001b[37m\u001b[0m \u001b[1m64s\u001b[0m 57ms/step - accuracy: 0.9877 - loss: 0.0339 - val_accuracy: 0.9947 - val_loss: 0.0122\n",
            "Epoch 3/20\n",
            "\u001b[1m1106/1106\u001b[0m \u001b[32m━━━━━━━━━━━━━━━━━━━━\u001b[0m\u001b[37m\u001b[0m \u001b[1m59s\u001b[0m 54ms/step - accuracy: 0.9945 - loss: 0.0148 - val_accuracy: 0.9920 - val_loss: 0.0207\n",
            "Epoch 4/20\n",
            "\u001b[1m1106/1106\u001b[0m \u001b[32m━━━━━━━━━━━━━━━━━━━━\u001b[0m\u001b[37m\u001b[0m \u001b[1m59s\u001b[0m 54ms/step - accuracy: 0.9919 - loss: 0.0248 - val_accuracy: 0.9900 - val_loss: 0.0380\n",
            "Epoch 5/20\n",
            "\u001b[1m1106/1106\u001b[0m \u001b[32m━━━━━━━━━━━━━━━━━━━━\u001b[0m\u001b[37m\u001b[0m \u001b[1m79s\u001b[0m 72ms/step - accuracy: 0.9910 - loss: 0.0251 - val_accuracy: 0.9939 - val_loss: 0.0122\n",
            "Epoch 6/20\n",
            "\u001b[1m1106/1106\u001b[0m \u001b[32m━━━━━━━━━━━━━━━━━━━━\u001b[0m\u001b[37m\u001b[0m \u001b[1m85s\u001b[0m 77ms/step - accuracy: 0.9949 - loss: 0.0109 - val_accuracy: 0.9852 - val_loss: 0.0258\n",
            "Epoch 7/20\n",
            "\u001b[1m1106/1106\u001b[0m \u001b[32m━━━━━━━━━━━━━━━━━━━━\u001b[0m\u001b[37m\u001b[0m \u001b[1m80s\u001b[0m 73ms/step - accuracy: 0.9914 - loss: 0.0203 - val_accuracy: 0.9926 - val_loss: 0.0141\n",
            "Epoch 8/20\n",
            "\u001b[1m1106/1106\u001b[0m \u001b[32m━━━━━━━━━━━━━━━━━━━━\u001b[0m\u001b[37m\u001b[0m \u001b[1m83s\u001b[0m 75ms/step - accuracy: 0.9945 - loss: 0.0126 - val_accuracy: 0.9949 - val_loss: 0.0124\n"
          ]
        }
      ],
      "source": [
        "from tensorflow.keras.callbacks import EarlyStopping\n",
        "\n",
        "early_stopping = EarlyStopping(patience=3, monitor='val_loss')\n",
        "\n",
        "history = model.fit(X_train, y_train, epochs=20, batch_size=64, validation_data=(X_val, y_val), callbacks=[early_stopping])\n"
      ]
    },
    {
      "cell_type": "markdown",
      "metadata": {
        "id": "0omw2XzSHwOo"
      },
      "source": [
        "## Evaluation on test data\n",
        "Evaluate the model on the test data in terms of loss and accuracy."
      ]
    },
    {
      "cell_type": "code",
      "execution_count": 11,
      "metadata": {
        "id": "4bF3dQA1Hv_R"
      },
      "outputs": [
        {
          "name": "stdout",
          "output_type": "stream",
          "text": [
            "\u001b[1m277/277\u001b[0m \u001b[32m━━━━━━━━━━━━━━━━━━━━\u001b[0m\u001b[37m\u001b[0m \u001b[1m4s\u001b[0m 13ms/step - accuracy: 0.9938 - loss: 0.0140\n",
            "Test Loss: 0.01204637810587883, Test Accuracy: 0.9942320585250854\n"
          ]
        }
      ],
      "source": [
        "loss, accuracy = model.evaluate(X_test, y_test)\n",
        "print(f'Test Loss: {loss}, Test Accuracy: {accuracy}')\n"
      ]
    },
    {
      "cell_type": "markdown",
      "metadata": {
        "id": "4Y73Q-h5Hz1r"
      },
      "source": [
        "## Confusion matrix\n",
        "Calculate and display the confusion matrix."
      ]
    },
    {
      "cell_type": "code",
      "execution_count": 14,
      "metadata": {
        "id": "cW8zZi1uJm2B"
      },
      "outputs": [
        {
          "name": "stdout",
          "output_type": "stream",
          "text": [
            "(8842, 60, 91)\n",
            "\u001b[1m277/277\u001b[0m \u001b[32m━━━━━━━━━━━━━━━━━━━━\u001b[0m\u001b[37m\u001b[0m \u001b[1m5s\u001b[0m 18ms/step\n",
            "Confusion Matrix:\n",
            "[[4732   49]\n",
            " [   2 4059]]\n"
          ]
        }
      ],
      "source": [
        "from sklearn.metrics import confusion_matrix\n",
        "\n",
        "print( X_test.shape)\n",
        "\n",
        "y_pred = model.predict(X_test)\n",
        "y_pred_classes = (y_pred > 0.5).astype('int')\n",
        "\n",
        "cm = confusion_matrix(y_test, y_pred_classes)\n",
        "print(\"Confusion Matrix:\")\n",
        "print(cm)\n"
      ]
    },
    {
      "cell_type": "code",
      "execution_count": 13,
      "metadata": {},
      "outputs": [
        {
          "data": {
            "image/png": "[encoded data removed]",
            "text/plain": [
              "<Figure size 800x600 with 2 Axes>"
            ]
          },
          "metadata": {},
          "output_type": "display_data"
        }
      ],
      "source": [
        "import seaborn as sns\n",
        "import matplotlib.pyplot as plt\n",
        "\n",
        "# Create a figure and axis\n",
        "fig, ax = plt.subplots(figsize=(8, 6))\n",
        "\n",
        "# Create the heatmap\n",
        "sns.heatmap(cm, annot=True, cmap='Blues', fmt='d', ax=ax)\n",
        "\n",
        "# Set labels, title, and axis ticks\n",
        "ax.set_xlabel('Predicted Labels')\n",
        "ax.set_ylabel('True Labels')\n",
        "ax.set_title('Confusion Matrix Heatmap')\n",
        "\n",
        "# Show the plot\n",
        "plt.show()\n"
      ]
    },
    {
      "cell_type": "code",
      "execution_count": null,
      "metadata": {},
      "outputs": [],
      "source": []
    }
  ],
  "metadata": {
    "accelerator": "GPU",
    "colab": {
      "gpuType": "T4",
      "include_colab_link": true,
      "provenance": []
    },
    "kernelspec": {
      "display_name": "Python 3",
      "name": "python3"
    },
    "language_info": {
      "codemirror_mode": {
        "name": "ipython",
        "version": 3
      },
      "file_extension": ".py",
      "mimetype": "text/x-python",
      "name": "python",
      "nbconvert_exporter": "python",
      "pygments_lexer": "ipython3",
      "version": "3.11.9"
    }
  },
  "nbformat": 4,
  "nbformat_minor": 0
}
