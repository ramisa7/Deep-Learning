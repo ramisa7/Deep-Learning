{
  "nbformat": 4,
  "nbformat_minor": 0,
  "metadata": {
    "anaconda-cloud": {},
    "kernelspec": {
      "display_name": "Python 3",
      "language": "python",
      "name": "python3"
    },
    "language_info": {
      "codemirror_mode": {
        "name": "ipython",
        "version": 3
      },
      "file_extension": ".py",
      "mimetype": "text/x-python",
      "name": "python",
      "nbconvert_exporter": "python",
      "pygments_lexer": "ipython3",
      "version": "3.6.6"
    },
    "colab": {
      "provenance": [],
      "include_colab_link": true
    },
    "accelerator": "GPU"
  },
  "cells": [
    {
      "cell_type": "markdown",
      "metadata": {
        "id": "view-in-github",
        "colab_type": "text"
      },
      "source": [
        "<a href=\"https://colab.research.google.com/github/ramisa7/Deep-Learning/blob/main/Ramisa_07_AIT_CNN_CIFAR10_exercise.ipynb\" target=\"_parent\"><img src=\"https://colab.research.google.com/assets/colab-badge.svg\" alt=\"Open In Colab\"/></a>"
      ]
    },
    {
      "cell_type": "markdown",
      "metadata": {
        "id": "cW-EyI5Lxpqi"
      },
      "source": [
        "# Copyright\n",
        "\n",
        "<PRE>\n",
        "Copyright (c) 2024 Bálint Gyires-Tóth - All Rights Reserved\n",
        "You may use and modify this code for research and development purpuses.\n",
        "Using this code for educational purposes (self-paced or instructor led) without the permission of the author is prohibited.\n",
        "</PRE>"
      ]
    },
    {
      "cell_type": "markdown",
      "source": [
        "# Convolutional Neural Network exercise\n",
        "\n",
        "In this notebook, you will build a convolutional neural network, which offers superior results over the previous MLP solution. Additionally, you will perform a more detailed evaluation."
      ],
      "metadata": {
        "id": "3EX4cCa4WKJu"
      }
    },
    {
      "cell_type": "code",
      "source": [
        "# imports\n",
        "from tensorflow.keras.datasets import cifar10\n",
        "from tensorflow.keras.utils import to_categorical\n",
        "import numpy as np\n",
        "import matplotlib.pyplot as plt\n",
        "from tensorflow.keras.models import Sequential\n",
        "from tensorflow.keras.layers import Dense, Conv2D, MaxPool2D, Flatten, Dropout, BatchNormalization\n",
        "from tensorflow.keras.initializers import HeNormal\n",
        "from tensorflow.keras.callbacks import EarlyStopping"
      ],
      "metadata": {
        "id": "GdCMhy4HA2qd"
      },
      "execution_count": 43,
      "outputs": []
    },
    {
      "cell_type": "markdown",
      "source": [
        "# 1. Data\n",
        "The dataset we will use is the well-known CIFAR10 (Canadian Institute For Advanced Research). Explore the details on the Keras website first: https://keras.io/api/datasets/cifar10/\n",
        "\n",
        "There isn't much difference between the data preprocessing part and the one we did before. The only difference is that we don't have to reshape images into vectors, but we are working with a 4 dimensional data structure, where the dimensions are: batch, X, Y, and color channels.\n",
        "\n",
        "In the event that anything is not clear regarding the data preparation part, please check the previous CIFAR10 notebook."
      ],
      "metadata": {
        "id": "yY9fztIeWIKt"
      }
    },
    {
      "cell_type": "code",
      "source": [
        "(X_train, Y_train), (X_test, Y_test) = cifar10.load_data()"
      ],
      "metadata": {
        "id": "bez7q0eiWQCK"
      },
      "execution_count": 44,
      "outputs": []
    },
    {
      "cell_type": "code",
      "source": [
        "# it is in int8 format, the neural network requires float32\n",
        "X_train = X_train.astype(\"float32\")\n",
        "X_test = X_test.astype(\"float32\")"
      ],
      "metadata": {
        "id": "vukOcBM0XzSj"
      },
      "execution_count": 45,
      "outputs": []
    },
    {
      "cell_type": "code",
      "source": [
        "train_ratio  = 0.8\n",
        "train_length = X_train.shape[0]\n",
        "train_split  = int(train_ratio*train_length)\n",
        "X_valid, Y_valid = X_train[train_split:], Y_train[train_split:]\n",
        "X_train, Y_train = X_train[:train_split], Y_train[:train_split]"
      ],
      "metadata": {
        "id": "mRwuWxxIxLgN"
      },
      "execution_count": 46,
      "outputs": []
    },
    {
      "cell_type": "code",
      "source": [
        "mean = X_train.mean(axis=0)\n",
        "std  = X_train.std(axis=0)\n",
        "\n",
        "X_train = (X_train-mean)/std\n",
        "X_valid = (X_valid-mean)/std\n",
        "X_test  = (X_test-mean)/std"
      ],
      "metadata": {
        "id": "2ESLP1EIyB2J"
      },
      "execution_count": 47,
      "outputs": []
    },
    {
      "cell_type": "code",
      "source": [
        "nb_classes = len(np.unique(Y_train))\n",
        "Y_train = to_categorical(Y_train, nb_classes)\n",
        "Y_valid = to_categorical(Y_valid, nb_classes)\n",
        "Y_test  = to_categorical(Y_test, nb_classes)"
      ],
      "metadata": {
        "id": "xwZ4OJ6I8lba"
      },
      "execution_count": 48,
      "outputs": []
    },
    {
      "cell_type": "code",
      "source": [
        "print(\"Shapes of the training, validation and test input data:\", X_train.shape, X_valid.shape, X_test.shape)\n",
        "print(\"Shapes of the training, validation and test output data:\", Y_train.shape, Y_valid.shape, Y_test.shape)\n",
        "print(\"Mean values of the training, validation and test input data:\", X_train.mean(), X_valid.mean(), X_test.mean())\n",
        "print(\"Standard deviation of the training, validation and test input data:\", X_train.std(), X_valid.std(), X_test.std())"
      ],
      "metadata": {
        "id": "O_jdJVcvX0vi",
        "colab": {
          "base_uri": "https://localhost:8080/"
        },
        "outputId": "5ea5c124-c98e-47e6-f7d8-b652fb859c06"
      },
      "execution_count": 49,
      "outputs": [
        {
          "output_type": "stream",
          "name": "stdout",
          "text": [
            "Shapes of the training, validation and test input data: (40000, 32, 32, 3) (10000, 32, 32, 3) (10000, 32, 32, 3)\n",
            "Shapes of the training, validation and test output data: (40000, 10) (10000, 10) (10000, 10)\n",
            "Mean values of the training, validation and test input data: 2.2788842e-09 0.0023437198 0.013331206\n",
            "Standard deviation of the training, validation and test input data: 1.0000023 0.9965626 0.99783075\n"
          ]
        }
      ]
    },
    {
      "cell_type": "markdown",
      "metadata": {
        "id": "cJ14oyZExpqj"
      },
      "source": [
        "# 2. Exercise: training"
      ]
    },
    {
      "cell_type": "markdown",
      "source": [
        "Create and train a convolutional neural network with the following requirements:\n",
        "* apply early stopping with patience=5 and monitor the validation accuracy, don't forget to load back the best weights after early stopping\n",
        "* the number of trainable parameters is lower than 200.000\n",
        "* the validation accuracy must be higher than 72%\n",
        "\n",
        "Hints:\n",
        "* you can always inspect the number of trainable parameters per layer with model.summary()\n",
        "* usually the most trainable parameters are between the last convolutional layer and the next dense layer -- so you should have a reasonable output size at the last convolutional layer\n",
        "* regularization helps (e.g. DropOut and/or BatchNormalization)\n",
        "* use the right activation function at the output layer and the corresponding loss function\n",
        "* for the chosen activation functions, please use the appropriate initialization method\n",
        "* you can match the dimension of the last conv/pooling layer to the next dense layer with e.g. Flatten()\n",
        "* ADAM optimizer is a reasonable choice\n",
        "* don't forget to turn on GPU support in Colab, otherwise, it would be quite slow to train the networks\n",
        "\n"
      ],
      "metadata": {
        "id": "j1tGVPdD-pp3"
      }
    },
    {
      "cell_type": "code",
      "source": [
        "es = EarlyStopping(monitor='val_accuracy', patience=5, restore_best_weights=True) # early stopping"
      ],
      "metadata": {
        "id": "5dBQxJHIHrbd"
      },
      "execution_count": 50,
      "outputs": []
    },
    {
      "cell_type": "code",
      "source": [
        "from tensorflow.keras.initializers import GlorotUniform\n",
        "from tensorflow.keras.layers import Conv2D, MaxPooling2D, Flatten, Dense, Dropout, BatchNormalization\n",
        "from tensorflow.keras.optimizers import Adam\n",
        "from tensorflow.keras.regularizers import l2"
      ],
      "metadata": {
        "id": "j6xvtWUNNKU1"
      },
      "execution_count": 63,
      "outputs": []
    },
    {
      "cell_type": "code",
      "source": [
        "# model definition\n",
        "model = Sequential([\n",
        "    Conv2D(32, (3, 3), activation='relu', input_shape=(32, 32, 3)),\n",
        "    Conv2D(64, (3, 3), activation='relu'),\n",
        "    MaxPooling2D((2, 2)),\n",
        "    Dropout(0.25),\n",
        "    Flatten(),\n",
        "    Dense(128, activation='relu', kernel_regularizer= l2(0.001)),\n",
        "    BatchNormalization(),\n",
        "    Dropout(0.5),\n",
        "    Dense(10, activation='softmax', kernel_initializer=GlorotUniform(seed=42))\n",
        "])\n",
        "# loss function and optimizer\n",
        "model.compile(loss='categorical_crossentropy', optimizer=Adam(), metrics=['accuracy'])"
      ],
      "metadata": {
        "id": "PuxHOqLt-3Nd"
      },
      "execution_count": 64,
      "outputs": []
    },
    {
      "cell_type": "code",
      "source": [
        "model.summary()"
      ],
      "metadata": {
        "id": "5eomQw8uE9Ix",
        "colab": {
          "base_uri": "https://localhost:8080/"
        },
        "outputId": "7494d0d5-d20d-43a0-de41-3091e036514e"
      },
      "execution_count": 59,
      "outputs": [
        {
          "output_type": "stream",
          "name": "stdout",
          "text": [
            "Model: \"sequential_6\"\n",
            "_________________________________________________________________\n",
            " Layer (type)                Output Shape              Param #   \n",
            "=================================================================\n",
            " conv2d_8 (Conv2D)           (None, 30, 30, 32)        896       \n",
            "                                                                 \n",
            " conv2d_9 (Conv2D)           (None, 28, 28, 64)        18496     \n",
            "                                                                 \n",
            " max_pooling2d_4 (MaxPoolin  (None, 14, 14, 64)        0         \n",
            " g2D)                                                            \n",
            "                                                                 \n",
            " dropout_12 (Dropout)        (None, 14, 14, 64)        0         \n",
            "                                                                 \n",
            " flatten_4 (Flatten)         (None, 12544)             0         \n",
            "                                                                 \n",
            " dense_14 (Dense)            (None, 128)               1605760   \n",
            "                                                                 \n",
            " batch_normalization_8 (Bat  (None, 128)               512       \n",
            " chNormalization)                                                \n",
            "                                                                 \n",
            " dropout_13 (Dropout)        (None, 128)               0         \n",
            "                                                                 \n",
            " dense_15 (Dense)            (None, 10)                1290      \n",
            "                                                                 \n",
            "=================================================================\n",
            "Total params: 1626954 (6.21 MB)\n",
            "Trainable params: 1626698 (6.21 MB)\n",
            "Non-trainable params: 256 (1.00 KB)\n",
            "_________________________________________________________________\n"
          ]
        }
      ]
    },
    {
      "cell_type": "markdown",
      "source": [
        "Please, check the number of trainable paramers:"
      ],
      "metadata": {
        "id": "8tIbIIeTEI41"
      }
    },
    {
      "cell_type": "code",
      "source": [
        "print(\"#trainable parameters:\",model.count_params())"
      ],
      "metadata": {
        "id": "xdBAG7EJETlX",
        "colab": {
          "base_uri": "https://localhost:8080/"
        },
        "outputId": "d602263c-549c-4c65-83c9-35bcc992abf9"
      },
      "execution_count": 65,
      "outputs": [
        {
          "output_type": "stream",
          "name": "stdout",
          "text": [
            "#trainable parameters: 1626954\n"
          ]
        }
      ]
    },
    {
      "cell_type": "code",
      "source": [
        "# training\n",
        "network_history = model.fit(X_train, Y_train,\n",
        "                             epochs=100,  # Number of epochs for training\n",
        "                             batch_size=32,  # Batch size for training\n",
        "                             validation_data=(X_valid, Y_valid),  # Validation data\n",
        "                             callbacks=[es])  # Callback for early stopping"
      ],
      "metadata": {
        "id": "u8tFNCNVHyt9",
        "colab": {
          "base_uri": "https://localhost:8080/"
        },
        "outputId": "b1acbe14-49aa-46b5-9199-3864ed5aa194"
      },
      "execution_count": 66,
      "outputs": [
        {
          "output_type": "stream",
          "name": "stdout",
          "text": [
            "Epoch 1/100\n",
            "1250/1250 [==============================] - 10s 7ms/step - loss: 1.7649 - accuracy: 0.4778 - val_loss: 1.4068 - val_accuracy: 0.5996\n",
            "Epoch 2/100\n",
            "1250/1250 [==============================] - 7s 6ms/step - loss: 1.5127 - accuracy: 0.5907 - val_loss: 1.4375 - val_accuracy: 0.6272\n",
            "Epoch 3/100\n",
            "1250/1250 [==============================] - 8s 7ms/step - loss: 1.5080 - accuracy: 0.6215 - val_loss: 1.4734 - val_accuracy: 0.6286\n",
            "Epoch 4/100\n",
            "1250/1250 [==============================] - 8s 6ms/step - loss: 1.4820 - accuracy: 0.6443 - val_loss: 1.4314 - val_accuracy: 0.6576\n",
            "Epoch 5/100\n",
            "1250/1250 [==============================] - 7s 6ms/step - loss: 1.4719 - accuracy: 0.6564 - val_loss: 1.4116 - val_accuracy: 0.6800\n",
            "Epoch 6/100\n",
            "1250/1250 [==============================] - 8s 7ms/step - loss: 1.4492 - accuracy: 0.6701 - val_loss: 1.4078 - val_accuracy: 0.6812\n",
            "Epoch 7/100\n",
            "1250/1250 [==============================] - 7s 6ms/step - loss: 1.4421 - accuracy: 0.6795 - val_loss: 1.3958 - val_accuracy: 0.6945\n",
            "Epoch 8/100\n",
            "1250/1250 [==============================] - 8s 7ms/step - loss: 1.4329 - accuracy: 0.6881 - val_loss: 1.3866 - val_accuracy: 0.7033\n",
            "Epoch 9/100\n",
            "1250/1250 [==============================] - 8s 6ms/step - loss: 1.4252 - accuracy: 0.6982 - val_loss: 1.4201 - val_accuracy: 0.7033\n",
            "Epoch 10/100\n",
            "1250/1250 [==============================] - 8s 6ms/step - loss: 1.4146 - accuracy: 0.7052 - val_loss: 1.3955 - val_accuracy: 0.7088\n",
            "Epoch 11/100\n",
            "1250/1250 [==============================] - 8s 7ms/step - loss: 1.4139 - accuracy: 0.7090 - val_loss: 1.4216 - val_accuracy: 0.7046\n",
            "Epoch 12/100\n",
            "1250/1250 [==============================] - 8s 6ms/step - loss: 1.4057 - accuracy: 0.7144 - val_loss: 1.3990 - val_accuracy: 0.7085\n",
            "Epoch 13/100\n",
            "1250/1250 [==============================] - 7s 6ms/step - loss: 1.4071 - accuracy: 0.7171 - val_loss: 1.4185 - val_accuracy: 0.7107\n",
            "Epoch 14/100\n",
            "1250/1250 [==============================] - 8s 6ms/step - loss: 1.3981 - accuracy: 0.7215 - val_loss: 1.4108 - val_accuracy: 0.7159\n",
            "Epoch 15/100\n",
            "1250/1250 [==============================] - 7s 6ms/step - loss: 1.3911 - accuracy: 0.7281 - val_loss: 1.4160 - val_accuracy: 0.7137\n",
            "Epoch 16/100\n",
            "1250/1250 [==============================] - 8s 6ms/step - loss: 1.3837 - accuracy: 0.7284 - val_loss: 1.4145 - val_accuracy: 0.7182\n",
            "Epoch 17/100\n",
            "1250/1250 [==============================] - 8s 6ms/step - loss: 1.3776 - accuracy: 0.7313 - val_loss: 1.4275 - val_accuracy: 0.7137\n",
            "Epoch 18/100\n",
            "1250/1250 [==============================] - 7s 6ms/step - loss: 1.3792 - accuracy: 0.7349 - val_loss: 1.4625 - val_accuracy: 0.7065\n",
            "Epoch 19/100\n",
            "1250/1250 [==============================] - 8s 6ms/step - loss: 1.3744 - accuracy: 0.7373 - val_loss: 1.4247 - val_accuracy: 0.7190\n",
            "Epoch 20/100\n",
            "1250/1250 [==============================] - 7s 6ms/step - loss: 1.3652 - accuracy: 0.7386 - val_loss: 1.4355 - val_accuracy: 0.7163\n",
            "Epoch 21/100\n",
            "1250/1250 [==============================] - 8s 6ms/step - loss: 1.3682 - accuracy: 0.7407 - val_loss: 1.4317 - val_accuracy: 0.7181\n",
            "Epoch 22/100\n",
            "1250/1250 [==============================] - 8s 6ms/step - loss: 1.3671 - accuracy: 0.7414 - val_loss: 1.3987 - val_accuracy: 0.7318\n",
            "Epoch 23/100\n",
            "1250/1250 [==============================] - 7s 5ms/step - loss: 1.3532 - accuracy: 0.7444 - val_loss: 1.4338 - val_accuracy: 0.7169\n",
            "Epoch 24/100\n",
            "1250/1250 [==============================] - 8s 7ms/step - loss: 1.3602 - accuracy: 0.7443 - val_loss: 1.4396 - val_accuracy: 0.7159\n",
            "Epoch 25/100\n",
            "1250/1250 [==============================] - 8s 7ms/step - loss: 1.3501 - accuracy: 0.7469 - val_loss: 1.4254 - val_accuracy: 0.7244\n",
            "Epoch 26/100\n",
            "1250/1250 [==============================] - 7s 6ms/step - loss: 1.3385 - accuracy: 0.7511 - val_loss: 1.4490 - val_accuracy: 0.7178\n",
            "Epoch 27/100\n",
            "1250/1250 [==============================] - 8s 7ms/step - loss: 1.3436 - accuracy: 0.7530 - val_loss: 1.4468 - val_accuracy: 0.7194\n"
          ]
        }
      ]
    },
    {
      "cell_type": "markdown",
      "source": [
        "Epoch 22 has a validation accuracy of 73.18%.\n"
      ],
      "metadata": {
        "id": "e2sIpj-MZ33L"
      }
    },
    {
      "cell_type": "markdown",
      "source": [
        "# 3. Exercise: evaluation on test data\n",
        "You will evaluate the classification of the test data using the common metrics and the confusion matrix in this section.\n",
        "\n",
        "\n",
        "As a first stes, let's run the predictions and convert the predicted softmax outputs to dense labels. The one-hot encoded labels are also converted back to dense labels, as they are required for the evaluation functions."
      ],
      "metadata": {
        "id": "2FtKp-a2-A9m"
      }
    },
    {
      "cell_type": "code",
      "source": [
        "probas = model.predict(X_test)\n",
        "preds  = np.argmax(probas,axis=1)\n",
        "Y_test_dense = np.argmax(Y_test, axis=1) # get the original dense labels of the test data"
      ],
      "metadata": {
        "id": "EcWAqwlDMq3y",
        "colab": {
          "base_uri": "https://localhost:8080/"
        },
        "outputId": "39cd7fd9-af10-4db6-ee35-cdda541180d3"
      },
      "execution_count": 67,
      "outputs": [
        {
          "output_type": "stream",
          "name": "stdout",
          "text": [
            "313/313 [==============================] - 1s 2ms/step\n"
          ]
        }
      ]
    },
    {
      "cell_type": "markdown",
      "source": [
        "## 3.1. Exercise: Metrics\n",
        "please review the common classification metrics (accuracy, precision, recall, F1) for the complete model (not per class).\n",
        "\n",
        "Hints:\n",
        "* use macro averaging\n",
        "* you have to import the right functions from [sklearn.metrics](https://scikit-learn.org/stable/modules/model_evaluation.html)\n"
      ],
      "metadata": {
        "id": "RWJ-PH_iMs9K"
      }
    },
    {
      "cell_type": "code",
      "source": [
        "from sklearn.metrics import accuracy_score, precision_score, recall_score, f1_score"
      ],
      "metadata": {
        "id": "5sKm5zHSMZ_x"
      },
      "execution_count": 68,
      "outputs": []
    },
    {
      "cell_type": "code",
      "source": [
        "print(\"Accuracy:\",accuracy_score(Y_test_dense, preds))\n",
        "print(\"Precision:\",precision_score(Y_test_dense, preds, average='macro'))\n",
        "print(\"Recall:\", recall_score(Y_test_dense, preds, average='macro'))\n",
        "print(\"F1:\",f1_score(Y_test_dense, preds, average='macro'))"
      ],
      "metadata": {
        "id": "I3_9wgDREUna",
        "colab": {
          "base_uri": "https://localhost:8080/"
        },
        "outputId": "db5a5629-d0f0-4228-d6dc-e9f3636d5dde"
      },
      "execution_count": 69,
      "outputs": [
        {
          "output_type": "stream",
          "name": "stdout",
          "text": [
            "Accuracy: 0.7238\n",
            "Precision: 0.7220001426062609\n",
            "Recall: 0.7238\n",
            "F1: 0.7205609935175841\n"
          ]
        }
      ]
    },
    {
      "cell_type": "markdown",
      "source": [
        "\n",
        "## 3.2. Exercise: Confusion matrix\n",
        "Calculate the confusion matrix and display the results in a heatmap (with decimal values).\n",
        "\n",
        "Hints:\n",
        "* you have to do the imports this time too, e.g. from [sklearn.metrics](https://scikit-learn.org/stable/modules/model_evaluation.html) and the [heatmap function](https://seaborn.pydata.org/generated/seaborn.heatmap.html) of [seaborn](https://seaborn.pydata.org/)\n",
        "* for displaying the decimal values, you have to turn annot=True and define fmt='d' in the heatmap function of seaborn"
      ],
      "metadata": {
        "id": "ECHguBFtGL7f"
      }
    },
    {
      "cell_type": "code",
      "source": [
        "from sklearn.metrics import confusion_matrix\n",
        "import seaborn as sns"
      ],
      "metadata": {
        "id": "SIi2VzMBO3yD"
      },
      "execution_count": 70,
      "outputs": []
    },
    {
      "cell_type": "code",
      "metadata": {
        "id": "cdqODx92Svw7",
        "colab": {
          "base_uri": "https://localhost:8080/",
          "height": 564
        },
        "outputId": "70a8f362-eb7b-48a8-cddd-a0940dd07885"
      },
      "source": [
        "conf = confusion_matrix(Y_test_dense, preds)\n",
        "plt.figure(figsize=(7,6))\n",
        "sns.heatmap(conf, annot=True, fmt='d')\n",
        "\n",
        "plt.xlabel('Predicted labels')\n",
        "plt.ylabel('True labels')\n",
        "plt.title('Confusion Matrix')\n",
        "plt.show()"
      ],
      "execution_count": 72,
      "outputs": [
        {
          "output_type": "display_data",
          "data": {
            "text/plain": [
              "<Figure size 700x600 with 2 Axes>"
            ],
            "image/png": "[encoded data removed]"
          },
          "metadata": {}
        }
      ]
    }
  ]
}